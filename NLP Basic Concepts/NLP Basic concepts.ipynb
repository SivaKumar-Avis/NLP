{
  "nbformat": 4,
  "nbformat_minor": 0,
  "metadata": {
    "kernelspec": {
      "display_name": "Python 3",
      "language": "python",
      "name": "python3"
    },
    "language_info": {
      "codemirror_mode": {
        "name": "ipython",
        "version": 3
      },
      "file_extension": ".py",
      "mimetype": "text/x-python",
      "name": "python",
      "nbconvert_exporter": "python",
      "pygments_lexer": "ipython3",
      "version": "3.6.5"
    },
    "colab": {
      "name": "Practice_exercise.ipynb",
      "provenance": [],
      "collapsed_sections": []
    }
  },
  "cells": [
    {
      "cell_type": "markdown",
      "metadata": {
        "_uuid": "3c77d7291ae3aff7ea714d3b19d708d455de016c",
        "id": "lQPawGJ42rD2",
        "colab_type": "text"
      },
      "source": [
        "We cannot work with the text data in machine learning so we need to convert them into numerical vectors, As a part of this practice exercise you will implement different techniques to do the same."
      ]
    },
    {
      "cell_type": "markdown",
      "metadata": {
        "_uuid": "4b77a3ffeea9399d8ff4ed783b11d325c8a47ba7",
        "id": "Lmt8o0av2rEK",
        "colab_type": "text"
      },
      "source": [
        "In this notebook we are going to understand some basic text cleaning steps and techniques for encoding text data. We are going to learn about\n",
        "1. **Understanding the data** - See what's data is all about. what should be considered for cleaning for data (Punctuations , stopwords etc..).\n",
        "2. **Basic Cleaning** -We will see what parameters need to be considered for cleaning of data (like Punctuations , stopwords etc..)  and its code.\n",
        "3. **Techniques for Encoding** - All the popular techniques that are used for encoding that I personally came across.\n",
        "    *           **Bag of Words**\n",
        "    *           **Binary Bag of Words**\n",
        "    *           **Bigram, Ngram**\n",
        "    *           **TF-IDF**( **T**erm  **F**requency - **I**nverse **D**ocument **F**requency)\n"
      ]
    },
    {
      "cell_type": "code",
      "metadata": {
        "id": "BYrAy2Z-AwwU",
        "colab_type": "code",
        "colab": {
          "base_uri": "https://localhost:8080/",
          "height": 68
        },
        "outputId": "e1599d11-bb98-4737-c05a-44a4942a9ef5"
      },
      "source": [
        "nltk.download('stopwords')"
      ],
      "execution_count": 20,
      "outputs": [
        {
          "output_type": "stream",
          "text": [
            "[nltk_data] Downloading package stopwords to /root/nltk_data...\n",
            "[nltk_data]   Unzipping corpora/stopwords.zip.\n"
          ],
          "name": "stdout"
        },
        {
          "output_type": "execute_result",
          "data": {
            "text/plain": [
              "True"
            ]
          },
          "metadata": {
            "tags": []
          },
          "execution_count": 20
        }
      ]
    },
    {
      "cell_type": "markdown",
      "metadata": {
        "_uuid": "3e9b8360f72e16b27f4ba5e353d412900fc4d5be",
        "id": "s3FLeK9S2rEU",
        "colab_type": "text"
      },
      "source": [
        " **Importing Libraries**"
      ]
    },
    {
      "cell_type": "code",
      "metadata": {
        "_cell_guid": "b1076dfc-b9ad-4769-8c92-a6c4dae69d19",
        "_uuid": "8f2839f25d086af736a60e9eeb907d3b93b6e0e5",
        "id": "kSO1WqUt2rEl",
        "colab_type": "code",
        "colab": {}
      },
      "source": [
        "import numpy as np                                  #for large and multi-dimensional arrays\n",
        "import pandas as pd                                 #for data manipulation and analysis\n",
        "import nltk                                         #Natural language processing tool-kit\n",
        "\n",
        "from nltk.corpus import stopwords                   #Stopwords corpus\n",
        "from nltk.stem import PorterStemmer                 # Stemmer\n",
        "\n",
        "from sklearn.feature_extraction.text import CountVectorizer          #For Bag of words\n",
        "from sklearn.feature_extraction.text import TfidfVectorizer          #For TF-IDF"
      ],
      "execution_count": 0,
      "outputs": []
    },
    {
      "cell_type": "code",
      "metadata": {
        "id": "NCGZD67N4PMP",
        "colab_type": "code",
        "colab": {
          "base_uri": "https://localhost:8080/",
          "height": 122
        },
        "outputId": "211b1dd7-3884-4189-bd18-7b89f1286865"
      },
      "source": [
        "from google.colab import drive\n",
        "drive.mount('/content/drive')"
      ],
      "execution_count": 1,
      "outputs": [
        {
          "output_type": "stream",
          "text": [
            "Go to this URL in a browser: https://accounts.google.com/o/oauth2/auth?client_id=947318989803-6bn6qk8qdgf4n4g3pfee6491hc0brc4i.apps.googleusercontent.com&redirect_uri=urn%3aietf%3awg%3aoauth%3a2.0%3aoob&response_type=code&scope=email%20https%3a%2f%2fwww.googleapis.com%2fauth%2fdocs.test%20https%3a%2f%2fwww.googleapis.com%2fauth%2fdrive%20https%3a%2f%2fwww.googleapis.com%2fauth%2fdrive.photos.readonly%20https%3a%2f%2fwww.googleapis.com%2fauth%2fpeopleapi.readonly\n",
            "\n",
            "Enter your authorization code:\n",
            "··········\n",
            "Mounted at /content/drive\n"
          ],
          "name": "stdout"
        }
      ]
    },
    {
      "cell_type": "code",
      "metadata": {
        "_cell_guid": "79c7e3d0-c299-4dcb-8224-4455121ee9b0",
        "_uuid": "d629ff2d2480ee46fbb7e2d37f6b5fab8052498a",
        "id": "9yJ5Jv2E2rFq",
        "colab_type": "code",
        "colab": {}
      },
      "source": [
        "data_path = \"/content/drive/My Drive/Natural Language Processing/Week 1/Practise Ex/Reviews.csv\"\n",
        "data = pd.read_csv(data_path)\n",
        "data_sel = data.head(10000)                                #Considering only top 10000 rows"
      ],
      "execution_count": 0,
      "outputs": []
    },
    {
      "cell_type": "code",
      "metadata": {
        "id": "WjE8LWhL6kzg",
        "colab_type": "code",
        "colab": {
          "base_uri": "https://localhost:8080/",
          "height": 289
        },
        "outputId": "e8a4eab4-81ab-4363-d50c-df87c528a2ee"
      },
      "source": [
        "data_sel.head()"
      ],
      "execution_count": 5,
      "outputs": [
        {
          "output_type": "execute_result",
          "data": {
            "text/html": [
              "<div>\n",
              "<style scoped>\n",
              "    .dataframe tbody tr th:only-of-type {\n",
              "        vertical-align: middle;\n",
              "    }\n",
              "\n",
              "    .dataframe tbody tr th {\n",
              "        vertical-align: top;\n",
              "    }\n",
              "\n",
              "    .dataframe thead th {\n",
              "        text-align: right;\n",
              "    }\n",
              "</style>\n",
              "<table border=\"1\" class=\"dataframe\">\n",
              "  <thead>\n",
              "    <tr style=\"text-align: right;\">\n",
              "      <th></th>\n",
              "      <th>Id</th>\n",
              "      <th>ProductId</th>\n",
              "      <th>UserId</th>\n",
              "      <th>ProfileName</th>\n",
              "      <th>HelpfulnessNumerator</th>\n",
              "      <th>HelpfulnessDenominator</th>\n",
              "      <th>Score</th>\n",
              "      <th>Time</th>\n",
              "      <th>Summary</th>\n",
              "      <th>Text</th>\n",
              "    </tr>\n",
              "  </thead>\n",
              "  <tbody>\n",
              "    <tr>\n",
              "      <th>0</th>\n",
              "      <td>1</td>\n",
              "      <td>B001E4KFG0</td>\n",
              "      <td>A3SGXH7AUHU8GW</td>\n",
              "      <td>delmartian</td>\n",
              "      <td>1</td>\n",
              "      <td>1</td>\n",
              "      <td>5</td>\n",
              "      <td>1303862400</td>\n",
              "      <td>Good Quality Dog Food</td>\n",
              "      <td>I have bought several of the Vitality canned d...</td>\n",
              "    </tr>\n",
              "    <tr>\n",
              "      <th>1</th>\n",
              "      <td>2</td>\n",
              "      <td>B00813GRG4</td>\n",
              "      <td>A1D87F6ZCVE5NK</td>\n",
              "      <td>dll pa</td>\n",
              "      <td>0</td>\n",
              "      <td>0</td>\n",
              "      <td>1</td>\n",
              "      <td>1346976000</td>\n",
              "      <td>Not as Advertised</td>\n",
              "      <td>Product arrived labeled as Jumbo Salted Peanut...</td>\n",
              "    </tr>\n",
              "    <tr>\n",
              "      <th>2</th>\n",
              "      <td>3</td>\n",
              "      <td>B000LQOCH0</td>\n",
              "      <td>ABXLMWJIXXAIN</td>\n",
              "      <td>Natalia Corres \"Natalia Corres\"</td>\n",
              "      <td>1</td>\n",
              "      <td>1</td>\n",
              "      <td>4</td>\n",
              "      <td>1219017600</td>\n",
              "      <td>\"Delight\" says it all</td>\n",
              "      <td>This is a confection that has been around a fe...</td>\n",
              "    </tr>\n",
              "    <tr>\n",
              "      <th>3</th>\n",
              "      <td>4</td>\n",
              "      <td>B000UA0QIQ</td>\n",
              "      <td>A395BORC6FGVXV</td>\n",
              "      <td>Karl</td>\n",
              "      <td>3</td>\n",
              "      <td>3</td>\n",
              "      <td>2</td>\n",
              "      <td>1307923200</td>\n",
              "      <td>Cough Medicine</td>\n",
              "      <td>If you are looking for the secret ingredient i...</td>\n",
              "    </tr>\n",
              "    <tr>\n",
              "      <th>4</th>\n",
              "      <td>5</td>\n",
              "      <td>B006K2ZZ7K</td>\n",
              "      <td>A1UQRSCLF8GW1T</td>\n",
              "      <td>Michael D. Bigham \"M. Wassir\"</td>\n",
              "      <td>0</td>\n",
              "      <td>0</td>\n",
              "      <td>5</td>\n",
              "      <td>1350777600</td>\n",
              "      <td>Great taffy</td>\n",
              "      <td>Great taffy at a great price.  There was a wid...</td>\n",
              "    </tr>\n",
              "  </tbody>\n",
              "</table>\n",
              "</div>"
            ],
            "text/plain": [
              "   Id  ...                                               Text\n",
              "0   1  ...  I have bought several of the Vitality canned d...\n",
              "1   2  ...  Product arrived labeled as Jumbo Salted Peanut...\n",
              "2   3  ...  This is a confection that has been around a fe...\n",
              "3   4  ...  If you are looking for the secret ingredient i...\n",
              "4   5  ...  Great taffy at a great price.  There was a wid...\n",
              "\n",
              "[5 rows x 10 columns]"
            ]
          },
          "metadata": {
            "tags": []
          },
          "execution_count": 5
        }
      ]
    },
    {
      "cell_type": "code",
      "metadata": {
        "_uuid": "b861545a58f30384891126cf8a9f576db40e1a30",
        "id": "codxSzTP2rGQ",
        "colab_type": "code",
        "colab": {
          "base_uri": "https://localhost:8080/",
          "height": 68
        },
        "outputId": "8d0f0e69-ad9a-44f7-aba7-514624c415f3"
      },
      "source": [
        "# Shape of our data\n",
        "data_sel.columns"
      ],
      "execution_count": 4,
      "outputs": [
        {
          "output_type": "execute_result",
          "data": {
            "text/plain": [
              "Index(['Id', 'ProductId', 'UserId', 'ProfileName', 'HelpfulnessNumerator',\n",
              "       'HelpfulnessDenominator', 'Score', 'Time', 'Summary', 'Text'],\n",
              "      dtype='object')"
            ]
          },
          "metadata": {
            "tags": []
          },
          "execution_count": 4
        }
      ]
    },
    {
      "cell_type": "code",
      "metadata": {
        "id": "qYgNpZXU82sH",
        "colab_type": "code",
        "colab": {
          "base_uri": "https://localhost:8080/",
          "height": 272
        },
        "outputId": "c86a40d0-eb3a-4ea3-8f23-c94b53880f49"
      },
      "source": [
        "data_sel.info()"
      ],
      "execution_count": 6,
      "outputs": [
        {
          "output_type": "stream",
          "text": [
            "<class 'pandas.core.frame.DataFrame'>\n",
            "RangeIndex: 10000 entries, 0 to 9999\n",
            "Data columns (total 10 columns):\n",
            "Id                        10000 non-null int64\n",
            "ProductId                 10000 non-null object\n",
            "UserId                    10000 non-null object\n",
            "ProfileName               10000 non-null object\n",
            "HelpfulnessNumerator      10000 non-null int64\n",
            "HelpfulnessDenominator    10000 non-null int64\n",
            "Score                     10000 non-null int64\n",
            "Time                      10000 non-null int64\n",
            "Summary                   10000 non-null object\n",
            "Text                      10000 non-null object\n",
            "dtypes: int64(5), object(5)\n",
            "memory usage: 781.4+ KB\n"
          ],
          "name": "stdout"
        }
      ]
    },
    {
      "cell_type": "markdown",
      "metadata": {
        "_uuid": "8e77faa28f4d4807e716f4bff26f8ff49c3fb2bd",
        "id": "aM-ffyTW2rH4",
        "colab_type": "text"
      },
      "source": [
        "1. **Understanding the data**\n",
        "\n",
        "Our main objective from the dataset is to predict whether a review is **Positive** or **Negative** based on the Text.\n",
        " \n",
        "If we see the Score column, it has values 1,2,3,4,5 .  Considering 1, 2 as Negative reviews and 4, 5 as Positive reviews.\n",
        " For Score = 3 we will consider it as Neutral review and lets delete the rows that are neutral, so that we can predict either Positive or Negative\n",
        " \n",
        "HelpfulnessNumerator says about number of people found that review usefull and HelpfulnessDenominator is about usefull review count + not so usefull count.\n",
        "So, from this we can see that HelfulnessNumerator is always less than or equal to HelpfulnesDenominator."
      ]
    },
    {
      "cell_type": "code",
      "metadata": {
        "_uuid": "0a77d47e68efd6859d84e6dc7c813ee5b680adaf",
        "id": "vJHE3yae2rIA",
        "colab_type": "code",
        "colab": {}
      },
      "source": [
        "# Write the code to remove all the rows from the dataset that have neutral review ie. Score value as 3\n",
        "\n",
        "\n",
        "data_sel=data_sel[data_sel['Score']!=3]"
      ],
      "execution_count": 0,
      "outputs": []
    },
    {
      "cell_type": "code",
      "metadata": {
        "id": "uhvD0jmG891f",
        "colab_type": "code",
        "colab": {
          "base_uri": "https://localhost:8080/",
          "height": 272
        },
        "outputId": "f2bdc285-6121-4bcb-ceac-4913f1073f29"
      },
      "source": [
        "data_sel.info()"
      ],
      "execution_count": 8,
      "outputs": [
        {
          "output_type": "stream",
          "text": [
            "<class 'pandas.core.frame.DataFrame'>\n",
            "Int64Index: 9138 entries, 0 to 9999\n",
            "Data columns (total 10 columns):\n",
            "Id                        9138 non-null int64\n",
            "ProductId                 9138 non-null object\n",
            "UserId                    9138 non-null object\n",
            "ProfileName               9138 non-null object\n",
            "HelpfulnessNumerator      9138 non-null int64\n",
            "HelpfulnessDenominator    9138 non-null int64\n",
            "Score                     9138 non-null int64\n",
            "Time                      9138 non-null int64\n",
            "Summary                   9138 non-null object\n",
            "Text                      9138 non-null object\n",
            "dtypes: int64(5), object(5)\n",
            "memory usage: 785.3+ KB\n"
          ],
          "name": "stdout"
        }
      ]
    },
    {
      "cell_type": "markdown",
      "metadata": {
        "_uuid": "26eda6bf2503287bf92a5b3139fa3d7a9dd8b101",
        "id": "s_AeLAet2rIW",
        "colab_type": "text"
      },
      "source": [
        "Converting Score values into class label either Positive or Negative."
      ]
    },
    {
      "cell_type": "code",
      "metadata": {
        "_uuid": "a2b51786e7a6da8f9ef8f66d98ccf3069540ce0e",
        "id": "yoiwCB5n2rIm",
        "colab_type": "code",
        "colab": {
          "base_uri": "https://localhost:8080/",
          "height": 289
        },
        "outputId": "e44cce17-e501-4fe6-b733-0a115d5abf84"
      },
      "source": [
        "# Write the code to replace the values of Score column with \"positive\" or \"Negative\" depending on the Score value\n",
        "\n",
        "\n",
        "data_sel[\"Score\"].replace({1: \"Negative\", 2: \"Negative\" , 4: \"Positive\" , 5:\"Positive\"}, inplace=True)\n",
        "data_sel.head()"
      ],
      "execution_count": 10,
      "outputs": [
        {
          "output_type": "execute_result",
          "data": {
            "text/html": [
              "<div>\n",
              "<style scoped>\n",
              "    .dataframe tbody tr th:only-of-type {\n",
              "        vertical-align: middle;\n",
              "    }\n",
              "\n",
              "    .dataframe tbody tr th {\n",
              "        vertical-align: top;\n",
              "    }\n",
              "\n",
              "    .dataframe thead th {\n",
              "        text-align: right;\n",
              "    }\n",
              "</style>\n",
              "<table border=\"1\" class=\"dataframe\">\n",
              "  <thead>\n",
              "    <tr style=\"text-align: right;\">\n",
              "      <th></th>\n",
              "      <th>Id</th>\n",
              "      <th>ProductId</th>\n",
              "      <th>UserId</th>\n",
              "      <th>ProfileName</th>\n",
              "      <th>HelpfulnessNumerator</th>\n",
              "      <th>HelpfulnessDenominator</th>\n",
              "      <th>Score</th>\n",
              "      <th>Time</th>\n",
              "      <th>Summary</th>\n",
              "      <th>Text</th>\n",
              "    </tr>\n",
              "  </thead>\n",
              "  <tbody>\n",
              "    <tr>\n",
              "      <th>0</th>\n",
              "      <td>1</td>\n",
              "      <td>B001E4KFG0</td>\n",
              "      <td>A3SGXH7AUHU8GW</td>\n",
              "      <td>delmartian</td>\n",
              "      <td>1</td>\n",
              "      <td>1</td>\n",
              "      <td>Positive</td>\n",
              "      <td>1303862400</td>\n",
              "      <td>Good Quality Dog Food</td>\n",
              "      <td>I have bought several of the Vitality canned d...</td>\n",
              "    </tr>\n",
              "    <tr>\n",
              "      <th>1</th>\n",
              "      <td>2</td>\n",
              "      <td>B00813GRG4</td>\n",
              "      <td>A1D87F6ZCVE5NK</td>\n",
              "      <td>dll pa</td>\n",
              "      <td>0</td>\n",
              "      <td>0</td>\n",
              "      <td>Negative</td>\n",
              "      <td>1346976000</td>\n",
              "      <td>Not as Advertised</td>\n",
              "      <td>Product arrived labeled as Jumbo Salted Peanut...</td>\n",
              "    </tr>\n",
              "    <tr>\n",
              "      <th>2</th>\n",
              "      <td>3</td>\n",
              "      <td>B000LQOCH0</td>\n",
              "      <td>ABXLMWJIXXAIN</td>\n",
              "      <td>Natalia Corres \"Natalia Corres\"</td>\n",
              "      <td>1</td>\n",
              "      <td>1</td>\n",
              "      <td>Positive</td>\n",
              "      <td>1219017600</td>\n",
              "      <td>\"Delight\" says it all</td>\n",
              "      <td>This is a confection that has been around a fe...</td>\n",
              "    </tr>\n",
              "    <tr>\n",
              "      <th>3</th>\n",
              "      <td>4</td>\n",
              "      <td>B000UA0QIQ</td>\n",
              "      <td>A395BORC6FGVXV</td>\n",
              "      <td>Karl</td>\n",
              "      <td>3</td>\n",
              "      <td>3</td>\n",
              "      <td>Negative</td>\n",
              "      <td>1307923200</td>\n",
              "      <td>Cough Medicine</td>\n",
              "      <td>If you are looking for the secret ingredient i...</td>\n",
              "    </tr>\n",
              "    <tr>\n",
              "      <th>4</th>\n",
              "      <td>5</td>\n",
              "      <td>B006K2ZZ7K</td>\n",
              "      <td>A1UQRSCLF8GW1T</td>\n",
              "      <td>Michael D. Bigham \"M. Wassir\"</td>\n",
              "      <td>0</td>\n",
              "      <td>0</td>\n",
              "      <td>Positive</td>\n",
              "      <td>1350777600</td>\n",
              "      <td>Great taffy</td>\n",
              "      <td>Great taffy at a great price.  There was a wid...</td>\n",
              "    </tr>\n",
              "  </tbody>\n",
              "</table>\n",
              "</div>"
            ],
            "text/plain": [
              "   Id  ...                                               Text\n",
              "0   1  ...  I have bought several of the Vitality canned d...\n",
              "1   2  ...  Product arrived labeled as Jumbo Salted Peanut...\n",
              "2   3  ...  This is a confection that has been around a fe...\n",
              "3   4  ...  If you are looking for the secret ingredient i...\n",
              "4   5  ...  Great taffy at a great price.  There was a wid...\n",
              "\n",
              "[5 rows x 10 columns]"
            ]
          },
          "metadata": {
            "tags": []
          },
          "execution_count": 10
        }
      ]
    },
    {
      "cell_type": "markdown",
      "metadata": {
        "_uuid": "11da101e437e715e7e900eae0daf683fa5129140",
        "id": "-w4zHuV52rJA",
        "colab_type": "text"
      },
      "source": [
        "2. **Basic Cleaning**\n",
        " \n",
        "**Deduplication** means removing duplicate rows, It is necessary to remove duplicates in order to get unbaised results. Checking duplicates based on UserId, ProfileName, Time, Text. If all these values are equal then we will remove those records. (No user can type a review on same exact time for different products.)\n",
        "\n",
        "\n",
        "We have seen that HelpfulnessNumerator should always be less than or equal to HelpfulnessDenominator so checking this condition and removing those records also.\n"
      ]
    },
    {
      "cell_type": "code",
      "metadata": {
        "_uuid": "90a6d730b53f4b371409fff116025e2fd29ebf5a",
        "id": "RCBbjNzL2rJG",
        "colab_type": "code",
        "colab": {}
      },
      "source": [
        "# Write the code to remove dulicates from the data and remove the rows where HelpfulnessNumerator is greater than \n",
        "# HelpfulnessDenominator. Store the resultant in a dataframe variable called \"final\"\n",
        "\n",
        "\n",
        "data_sel.drop_duplicates(subset=['UserId', 'ProfileName','Text'],keep='first',inplace=True)\n",
        "\n",
        "data_sel.drop(data_sel[data_sel['HelpfulnessNumerator'] > data_sel['HelpfulnessNumerator']].index, inplace=True)"
      ],
      "execution_count": 0,
      "outputs": []
    },
    {
      "cell_type": "code",
      "metadata": {
        "id": "_DcxRP0GAC3A",
        "colab_type": "code",
        "colab": {
          "base_uri": "https://localhost:8080/",
          "height": 272
        },
        "outputId": "894aaefc-d3ab-4261-da7d-4efd09aef5b1"
      },
      "source": [
        "final=data_sel\n",
        "#final.head()\n",
        "final.info()"
      ],
      "execution_count": 15,
      "outputs": [
        {
          "output_type": "stream",
          "text": [
            "<class 'pandas.core.frame.DataFrame'>\n",
            "Int64Index: 8716 entries, 0 to 9999\n",
            "Data columns (total 10 columns):\n",
            "Id                        8716 non-null int64\n",
            "ProductId                 8716 non-null object\n",
            "UserId                    8716 non-null object\n",
            "ProfileName               8716 non-null object\n",
            "HelpfulnessNumerator      8716 non-null int64\n",
            "HelpfulnessDenominator    8716 non-null int64\n",
            "Score                     8716 non-null object\n",
            "Time                      8716 non-null int64\n",
            "Summary                   8716 non-null object\n",
            "Text                      8716 non-null object\n",
            "dtypes: int64(4), object(6)\n",
            "memory usage: 749.0+ KB\n"
          ],
          "name": "stdout"
        }
      ]
    },
    {
      "cell_type": "code",
      "metadata": {
        "_uuid": "61e8f9671ad79b0b3e5eb15953ac76e15e216e84",
        "id": "SocG0k2U2rJf",
        "colab_type": "code",
        "colab": {}
      },
      "source": [
        "final_X = final['Text']\n",
        "final_y = final['Score']"
      ],
      "execution_count": 0,
      "outputs": []
    },
    {
      "cell_type": "code",
      "metadata": {
        "id": "G8cTwR7YAPOI",
        "colab_type": "code",
        "colab": {
          "base_uri": "https://localhost:8080/",
          "height": 71
        },
        "outputId": "971cac8e-30f6-4e74-b382-d13ed9eef622"
      },
      "source": [
        "print(final_X[1])\n",
        "print(final_y[1])"
      ],
      "execution_count": 29,
      "outputs": [
        {
          "output_type": "stream",
          "text": [
            "Product arrived labeled as Jumbo Salted Peanuts...the peanuts were actually small sized unsalted. Not sure if this was an error or if the vendor intended to represent the product as \"Jumbo\".\n",
            "Negative\n"
          ],
          "name": "stdout"
        }
      ]
    },
    {
      "cell_type": "markdown",
      "metadata": {
        "_uuid": "1b0ead76f4f3eeb725cdad927053df4bda1efea3",
        "id": "DlJCYulM2rJr",
        "colab_type": "text"
      },
      "source": [
        "Converting all words to lowercase and removing punctuations and html tags if any\n",
        "\n",
        "**Stemming**- Converting the words into their base word or stem word ( Ex - tastefully, tasty,  these words are converted to stem word called 'tasti'). This reduces the vector dimension because we dont consider all similar words  \n",
        "\n",
        "**Stopwords** - Stopwords are the unnecessary words that even if they are removed the sentiment of the sentence dosent change.\n",
        "\n",
        "Ex -    This pasta is so tasty ==> pasta tasty    ( This , is, so are stopwords so they are removed)\n",
        "\n",
        "To see all the stopwords see the below code cell."
      ]
    },
    {
      "cell_type": "code",
      "metadata": {
        "_uuid": "3ab617bd0129fd68f13d2de64fc31f0395e052d8",
        "scrolled": true,
        "id": "mlHzw86v2rKC",
        "colab_type": "code",
        "colab": {
          "base_uri": "https://localhost:8080/",
          "height": 54
        },
        "outputId": "252d3525-b64c-4da2-8951-616d99127603"
      },
      "source": [
        "stop = set(stopwords.words('english')) \n",
        "print(stop)"
      ],
      "execution_count": 30,
      "outputs": [
        {
          "output_type": "stream",
          "text": [
            "{'doing', 'yourself', 'until', 'wasn', 'at', 'any', 't', 'their', 'some', 'shan', 'up', 'if', \"needn't\", 'so', 'y', 'your', \"it's\", 'on', 'him', 'his', 'from', 'down', 'own', \"shan't\", 'o', 'my', 'whom', 'only', 'been', 'a', 'just', 'same', 'i', 'do', 'or', \"that'll\", 'has', \"didn't\", \"won't\", 'yourselves', 'she', 'that', 'they', 'he', 'there', 'not', 'aren', 'what', 'doesn', 'myself', 'each', 'over', \"shouldn't\", 'be', 'was', 'very', 'nor', 'its', 'themselves', 'will', 've', 'theirs', 'did', 'can', 'then', 'ma', \"mightn't\", 'needn', 'between', \"isn't\", 'her', 'while', 'most', 'below', 'which', 'll', 'our', 'out', 'before', 'by', 'as', \"she's\", 'having', 'hadn', 'those', \"you'll\", 'and', 'after', 'against', 'we', \"you'd\", 'me', 'himself', 'itself', 'again', 'few', \"hasn't\", 're', 'had', \"should've\", 'above', 'should', 'wouldn', \"you've\", 'both', 'through', \"hadn't\", 'shouldn', 'no', 'why', 'isn', 'other', 'into', \"don't\", 'you', 'mustn', \"couldn't\", 'once', 'to', 'more', 'haven', 'hasn', 'hers', 'won', 'the', 'of', 'during', 'off', 'about', \"doesn't\", 'this', 'but', 'who', 'am', 'further', 'yours', 'were', 'does', 'm', 'mightn', \"haven't\", 'them', 'ours', 'didn', 's', \"mustn't\", 'all', 'such', \"wasn't\", 'where', 'these', 'it', 'with', 'an', 'are', 'under', 'for', 'd', 'when', 'ain', \"wouldn't\", 'have', 'too', 'weren', 'don', \"weren't\", \"aren't\", \"you're\", 'herself', 'now', 'ourselves', 'here', 'because', 'than', 'couldn', 'is', 'in', 'how', 'being'}\n"
          ],
          "name": "stdout"
        }
      ]
    },
    {
      "cell_type": "markdown",
      "metadata": {
        "id": "KRHEvyp82rMK",
        "colab_type": "text"
      },
      "source": [
        "For each sentence in final_X perform the following operations in sequence\n",
        "* Convert each character in a sentence to lowercase character\n",
        "* Remove HTML Tags\n",
        "* Remove punctuations\n",
        "* Remove stopwords\n",
        "* Stem each word using SnowballStemmer in nltk library\n",
        "\n",
        "Hint: \n",
        "* Use regular expressions\n",
        "* Use nltk.stem.SnowballStemmer"
      ]
    },
    {
      "cell_type": "code",
      "metadata": {
        "id": "NTkT8zQqDWLo",
        "colab_type": "code",
        "colab": {}
      },
      "source": [
        "from nltk.tokenize import word_tokenize"
      ],
      "execution_count": 0,
      "outputs": []
    },
    {
      "cell_type": "code",
      "metadata": {
        "_uuid": "9a82923d71ffb9e08b70fbe21c811a487e41c72a",
        "id": "Foyp42b22rMa",
        "colab_type": "code",
        "colab": {}
      },
      "source": [
        "# Solution\n",
        "\n",
        "import re\n",
        "temp =[]\n",
        "snow = nltk.stem.SnowballStemmer('english')\n",
        "for sentence in final_X:\n",
        "    sentence = sentence.lower()                 # Converting to lowercase\n",
        "    cleanr = re.compile('<.*?>')\n",
        "    sentence = re.sub(cleanr, ' ', sentence)        #Removing HTML tags\n",
        "    sentence = re.sub(r'[?|!|\\'|\"|#]',r'',sentence)\n",
        "    sentence = re.sub(r'[.|,|)|(|\\|/]',r' ',sentence)        #Removing Punctuations\n",
        "    \n",
        "    words = [snow.stem(word) for word in sentence.split() if word not in stopwords.words('english')]   # Stemming and removing stopwords\n",
        "    temp.append(words)\n",
        "    \n",
        "final_X = temp    "
      ],
      "execution_count": 0,
      "outputs": []
    },
    {
      "cell_type": "code",
      "metadata": {
        "_uuid": "94dffc6951e46f0e9794dbabe3432344ed95b800",
        "id": "YIKkyLFj2rMp",
        "colab_type": "code",
        "colab": {
          "base_uri": "https://localhost:8080/",
          "height": 34
        },
        "outputId": "42e5ee4e-35a7-4cc8-e1fd-5e46ebf31030"
      },
      "source": [
        "print(final_X[1])"
      ],
      "execution_count": 33,
      "outputs": [
        {
          "output_type": "stream",
          "text": [
            "['product', 'arriv', 'label', 'jumbo', 'salt', 'peanut', 'peanut', 'actual', 'small', 'size', 'unsalt', 'sure', 'error', 'vendor', 'intend', 'repres', 'product', 'jumbo']\n"
          ],
          "name": "stdout"
        }
      ]
    },
    {
      "cell_type": "code",
      "metadata": {
        "_uuid": "c9d7c746dae70cb28d489f5f239a8e1e5b46ed1b",
        "id": "z4sdgvqg2rM1",
        "colab_type": "code",
        "colab": {
          "base_uri": "https://localhost:8080/",
          "height": 34
        },
        "outputId": "7b7998a2-4c61-4c95-bf24-b09670674245"
      },
      "source": [
        "sent = []\n",
        "for row in final_X:\n",
        "    sequ = ''\n",
        "    for word in row:\n",
        "        sequ = sequ + ' ' + word\n",
        "    sent.append(sequ)\n",
        "\n",
        "final_X = sent\n",
        "print(final_X[1])"
      ],
      "execution_count": 34,
      "outputs": [
        {
          "output_type": "stream",
          "text": [
            " product arriv label jumbo salt peanut peanut actual small size unsalt sure error vendor intend repres product jumbo\n"
          ],
          "name": "stdout"
        }
      ]
    },
    {
      "cell_type": "markdown",
      "metadata": {
        "_uuid": "67431e1466aefbba119b54205893dd0dcdff9f3b",
        "id": "pmQfToj-2rNE",
        "colab_type": "text"
      },
      "source": [
        "3. **Techniques for Encoding**\n",
        "\n",
        "      **BAG OF WORDS**\n",
        "      \n",
        "      In BoW we construct a dictionary that contains set of all unique words from our text review dataset.The frequency of the word is counted here. if there are **d** unique words in our dictionary then for every sentence or review the vector will be of length **d** and count of word from review is stored at its particular location in vector. The vector will be highly sparse in such case.\n",
        "      \n",
        "      Ex. pasta is tasty and pasta is good\n",
        "      \n",
        "     **[0]....[1]............[1]...........[2]..........[2]............[1]..........**             <== Its vector representation ( remaining all dots will be represented as zeroes)\n",
        "     \n",
        "     **[a]..[and].....[good].......[is].......[pasta]....[tasty].......**            <==This is dictionary\n",
        "      .\n",
        "      \n",
        "    Using scikit-learn's CountVectorizer we can get the BoW and check out all the parameters it consists of, one of them is max_features =5000 it tells about to consider only top 5000 most frequently repeated words to place in a dictionary. so our dictionary length or vector length will be only 5000\n",
        "    \n",
        "\n",
        "\n",
        "   **BINARY BAG OF WORDS**\n",
        "    \n",
        "   In binary BoW, we dont count the frequency of word, we just place **1** if the word appears in the review or else **0**. In CountVectorizer there is a parameter **binary = true** this makes our BoW to binary BoW.\n",
        "   \n",
        "  "
      ]
    },
    {
      "cell_type": "code",
      "metadata": {
        "_uuid": "a640c6fb9a16e4f0e271c1a101411af2d053fca3",
        "scrolled": true,
        "id": "izlwgIbu2rNI",
        "colab_type": "code",
        "colab": {}
      },
      "source": [
        "# Here we use the CountVectorizer from sklearn to create bag of words\n",
        "count_vect = CountVectorizer(max_features=5000)\n",
        "bow_data = count_vect.fit_transform(final_X)"
      ],
      "execution_count": 0,
      "outputs": []
    },
    {
      "cell_type": "code",
      "metadata": {
        "id": "6wyAtMYsM3T5",
        "colab_type": "code",
        "colab": {
          "base_uri": "https://localhost:8080/",
          "height": 34
        },
        "outputId": "1ccc60c5-060d-4225-a46c-8cf65f717a61"
      },
      "source": [
        "final_X[1]"
      ],
      "execution_count": 39,
      "outputs": [
        {
          "output_type": "execute_result",
          "data": {
            "text/plain": [
              "' product arriv label jumbo salt peanut peanut actual small size unsalt sure error vendor intend repres product jumbo'"
            ]
          },
          "metadata": {
            "tags": []
          },
          "execution_count": 39
        }
      ]
    },
    {
      "cell_type": "code",
      "metadata": {
        "id": "_Tzrt6q1LV5I",
        "colab_type": "code",
        "colab": {
          "base_uri": "https://localhost:8080/",
          "height": 272
        },
        "outputId": "7cd6f6fe-aecf-4090-f4ee-e35c13b02f8a"
      },
      "source": [
        "print(bow_data[1])"
      ],
      "execution_count": 38,
      "outputs": [
        {
          "output_type": "stream",
          "text": [
            "  (0, 3438)\t2\n",
            "  (0, 339)\t1\n",
            "  (0, 2479)\t1\n",
            "  (0, 2398)\t2\n",
            "  (0, 3778)\t1\n",
            "  (0, 3230)\t2\n",
            "  (0, 167)\t1\n",
            "  (0, 4024)\t1\n",
            "  (0, 3991)\t1\n",
            "  (0, 4672)\t1\n",
            "  (0, 4322)\t1\n",
            "  (0, 1513)\t1\n",
            "  (0, 4729)\t1\n",
            "  (0, 2304)\t1\n",
            "  (0, 3648)\t1\n"
          ],
          "name": "stdout"
        }
      ]
    },
    {
      "cell_type": "markdown",
      "metadata": {
        "_uuid": "da9a72410e69708650ccf3263fea6d9b1222147f",
        "id": "lplsMoCD2rNp",
        "colab_type": "text"
      },
      "source": [
        " **Drawbacks of BoW/ Binary BoW**\n",
        " \n",
        " Our main objective in doing these text to vector encodings is that similar meaning text vectors should be close to each other, but in some cases this may not possible for Bow\n",
        " \n",
        "For example, if we consider two reviews **This pasta is very tasty** and **This pasta is not tasty** after stopwords removal both sentences will be converted to **pasta tasty** so both giving exact same meaning.\n",
        "\n",
        "The main problem is here we are not considering the front and back words related to every word, here comes Bigram and Ngram techniques."
      ]
    },
    {
      "cell_type": "markdown",
      "metadata": {
        "_uuid": "a8c25fa64918f9b5129ca8d424684354c29f041d",
        "id": "ocUFPZji2rNu",
        "colab_type": "text"
      },
      "source": [
        "**BI-GRAM BOW**\n",
        "\n",
        "Considering pair of words for creating dictionary is Bi-Gram , Tri-Gram means three consecutive words so as NGram.\n",
        "\n",
        "CountVectorizer has a parameter **ngram_range** if assigned to (1,2) it considers Bi-Gram BoW\n",
        "\n",
        "But this massively increases our dictionary size "
      ]
    },
    {
      "cell_type": "code",
      "metadata": {
        "_uuid": "3bc1a606a42d4e333baa3c62d5a7e5953db28cd9",
        "id": "0Lz8X3qA2rNz",
        "colab_type": "code",
        "colab": {}
      },
      "source": [
        "final_B_X = final_X"
      ],
      "execution_count": 0,
      "outputs": []
    },
    {
      "cell_type": "code",
      "metadata": {
        "_uuid": "646f10e703dca9daf8a0cca2b5c23f0a21d4ccec",
        "id": "h02c66Zm2rOB",
        "colab_type": "code",
        "colab": {
          "base_uri": "https://localhost:8080/",
          "height": 561
        },
        "outputId": "1f86f129-1f31-493d-93e5-ba4d6a7e5d5e"
      },
      "source": [
        "count_vect = CountVectorizer(ngram_range=(1,2))\n",
        "Bigram_data = count_vect.fit_transform(final_B_X)\n",
        "print(Bigram_data[1])"
      ],
      "execution_count": 41,
      "outputs": [
        {
          "output_type": "stream",
          "text": [
            "  (0, 142748)\t2\n",
            "  (0, 11784)\t1\n",
            "  (0, 100430)\t1\n",
            "  (0, 97859)\t2\n",
            "  (0, 155850)\t1\n",
            "  (0, 133854)\t2\n",
            "  (0, 3831)\t1\n",
            "  (0, 165423)\t1\n",
            "  (0, 164485)\t1\n",
            "  (0, 193558)\t1\n",
            "  (0, 177092)\t1\n",
            "  (0, 60852)\t1\n",
            "  (0, 196632)\t1\n",
            "  (0, 95076)\t1\n",
            "  (0, 151689)\t1\n",
            "  (0, 142800)\t1\n",
            "  (0, 11861)\t1\n",
            "  (0, 100490)\t1\n",
            "  (0, 97865)\t1\n",
            "  (0, 155987)\t1\n",
            "  (0, 133898)\t1\n",
            "  (0, 133855)\t1\n",
            "  (0, 4021)\t1\n",
            "  (0, 165627)\t1\n",
            "  (0, 164722)\t1\n",
            "  (0, 193567)\t1\n",
            "  (0, 177168)\t1\n",
            "  (0, 60866)\t1\n",
            "  (0, 196648)\t1\n",
            "  (0, 95087)\t1\n",
            "  (0, 151696)\t1\n",
            "  (0, 143171)\t1\n"
          ],
          "name": "stdout"
        }
      ]
    },
    {
      "cell_type": "markdown",
      "metadata": {
        "_uuid": "3d29a0749cc26757d3f311cadee7dfdd97aa7c76",
        "id": "pfWOz5X12rOh",
        "colab_type": "text"
      },
      "source": [
        "**TF-IDF**\n",
        "\n",
        "**Term Frequency -  Inverse Document Frequency** it makes sure that less importance is given to most frequent words and also considers less frequent words.\n",
        "\n",
        "**Term Frequency** is number of times a **particular word(W)** occurs in a review divided by totall number of words **(Wr)** in review. The term frequency value ranges from 0 to 1.\n",
        "\n",
        "**Inverse Document Frequency** is calculated as **log(Total Number of Docs(N) / Number of Docs which contains particular word(n))**. Here Docs referred as Reviews.\n",
        "\n",
        "\n",
        "**TF-IDF** is **TF * IDF** that is **(W/Wr)*LOG(N/n)**\n",
        "\n",
        "\n",
        " Using scikit-learn's tfidfVectorizer we can get the TF-IDF.\n",
        "\n",
        "So even here we get a TF-IDF value for every word and in some cases it may consider different meaning reviews as similar after stopwords removal. so to over come we can use BI-Gram or NGram."
      ]
    },
    {
      "cell_type": "code",
      "metadata": {
        "_uuid": "b1870137f2b5f4f0e97eaa0b8812cae83c53ed21",
        "id": "dpUpsiWu2rOk",
        "colab_type": "code",
        "colab": {
          "base_uri": "https://localhost:8080/",
          "height": 272
        },
        "outputId": "2729e963-bffc-4e91-e7d9-0a4aa0967773"
      },
      "source": [
        "final_tf = final_X\n",
        "tf_idf = TfidfVectorizer(max_features=5000)\n",
        "tf_data = tf_idf.fit_transform(final_tf)\n",
        "print(tf_data[1])"
      ],
      "execution_count": 42,
      "outputs": [
        {
          "output_type": "stream",
          "text": [
            "  (0, 3648)\t0.27632712135962173\n",
            "  (0, 2304)\t0.25859653983415387\n",
            "  (0, 4729)\t0.22110118037757334\n",
            "  (0, 1513)\t0.2676445880029433\n",
            "  (0, 4322)\t0.14376307914308592\n",
            "  (0, 4672)\t0.27031268989556007\n",
            "  (0, 3991)\t0.14758383587179663\n",
            "  (0, 4024)\t0.14731004824244134\n",
            "  (0, 167)\t0.14731004824244134\n",
            "  (0, 3230)\t0.372643738302882\n",
            "  (0, 3778)\t0.15376521824831518\n",
            "  (0, 2398)\t0.5671036965848731\n",
            "  (0, 2479)\t0.18769096566284565\n",
            "  (0, 339)\t0.15742580595200475\n",
            "  (0, 3438)\t0.18223349846935735\n"
          ],
          "name": "stdout"
        }
      ]
    },
    {
      "cell_type": "code",
      "metadata": {
        "id": "P83bzb872rOu",
        "colab_type": "code",
        "colab": {}
      },
      "source": [
        ""
      ],
      "execution_count": 0,
      "outputs": []
    }
  ]
}